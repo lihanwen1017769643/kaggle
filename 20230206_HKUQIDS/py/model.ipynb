{
 "cells": [
  {
   "attachments": {},
   "cell_type": "markdown",
   "metadata": {},
   "source": [
    "# HKU QIDS 2023 Quantitative Investment Competition: Model"
   ]
  },
  {
   "cell_type": "markdown",
   "metadata": {},
   "source": [
    "## Init Config"
   ]
  },
  {
   "cell_type": "code",
   "execution_count": 68,
   "metadata": {},
   "outputs": [],
   "source": [
    "import pandas as pd\n",
    "import numpy as np\n",
    "import matplotlib.pyplot as plt\n",
    "from qids_package.qids import *\n",
    "import warnings\n",
    "from submit import submit\n",
    "\n",
    "from sklearn.preprocessing import StandardScaler\n",
    "from sklearn.linear_model import LinearRegression\n",
    "from sklearn.linear_model import Ridge\n",
    "from sklearn.linear_model import Lasso\n",
    "\n",
    "warnings.filterwarnings(\"ignore\")"
   ]
  },
  {
   "cell_type": "code",
   "execution_count": 69,
   "metadata": {},
   "outputs": [],
   "source": [
    "seed = 257248\n",
    "stock_num = 54\n",
    "day_num_total = 1000\n",
    "day_num = 1000 - 2\n",
    "test_day_num = 700\n",
    "timeslot_num = 50"
   ]
  },
  {
   "cell_type": "code",
   "execution_count": 70,
   "metadata": {},
   "outputs": [],
   "source": [
    "def std(train, valid, test=None):\n",
    "    scaler = StandardScaler()\n",
    "    scaler.fit(train)\n",
    "    train = scaler.transform(train)\n",
    "    valid = scaler.transform(valid)\n",
    "    if test is not None:\n",
    "        test = scaler.transform(test)\n",
    "    return train, valid, test"
   ]
  },
  {
   "cell_type": "code",
   "execution_count": 71,
   "metadata": {},
   "outputs": [],
   "source": [
    "def calc_corr(df1, df2):\n",
    "    return np.corrcoef(df1, df2)[0][1]"
   ]
  },
  {
   "cell_type": "code",
   "execution_count": 72,
   "metadata": {},
   "outputs": [],
   "source": [
    "# def evaluate(model, train, valid, test, train_y, valid_y, return_pred=True, version=2, return_auc=False, plot_auc=False):\n",
    "#     model.fit(train, train_y)\n",
    "#     if version == 2:\n",
    "#         model_train_y = model.predict(train)\n",
    "#         model_valid_y = model.predict(valid)\n",
    "#         pred = model.predict(test)\n",
    "#         acr_train = model.score(train, train_y)\n",
    "#         acr_valid = model.score(valid, valid_y)\n",
    "#         print(calc_corr(train_y, model_train_y))\n",
    "#         print(calc_corr(valid_y, model_valid_y))\n",
    "#         if return_pred:\n",
    "#             return pred\n",
    "    #     cm = confusion_matrix(train_y, model_train_y)\n",
    "    #     tn, fp, fn, tp = cm.ravel()\n",
    "    #     print(f\"Train AUROC: {roc_auc_score(train_y, model_train_y):.4f}; FP: {fp:>4d}; FN: {fn:>4d}\")\n",
    "    #     cm = confusion_matrix(valid_y, model_valid_y)\n",
    "    #     tn, fp, fn, tp = cm.ravel()\n",
    "    #     print(f\"Valid AUROC: {roc_auc_score(valid_y, model_valid_y):.4f}; FP: {fp:>4d}; FN: {fn:>4d}\")\n",
    "    #     print()\n",
    "    # elif version == 3:\n",
    "    #     pred_train = model.predict(train)\n",
    "    #     pred_valid = model.predict(valid)\n",
    "    #     pred = model.predict(test)\n",
    "    #     print(f\"Train RMSE: {mse(train_y, pred_train, squared=False):.4f}\")\n",
    "    #     print(f\"Valid RMSE: {mse(valid_y, pred_valid, squared=False):.4f}\")\n",
    "    # else:\n",
    "    #     model_train_y = model.predict_proba(train)[:,1]\n",
    "    #     model_valid_y = model.predict_proba(valid)[:,1]\n",
    "    #     pred = model.predict_proba(test)[:,1]\n",
    "    #     acr_train = model.score(train, train_y)\n",
    "    #     acr_valid = model.score(valid, valid_y)\n",
    "    #     print(f\"Train Accuracy: {acr_train:.4f}; Validation Accuracy: {acr_valid:.4f}\")\n",
    "    #     auc_train = roc_auc_score(train_y, model_train_y)\n",
    "    #     auc_valid = roc_auc_score(valid_y, model_valid_y)\n",
    "    #     print(f\"Train AUROC: {auc_train:.4f}\")\n",
    "    #     print(f\"Valid AUROC: {auc_valid:.4f}\")\n",
    "    #     print()\n",
    "    # if plot_auc:\n",
    "    #     try:\n",
    "    #         fpr1, tpr1, thresholds1 = roc_curve(train_y, model_train_y)\n",
    "    #         fpr2, tpr2, thresholds2 = roc_curve(valid_y, model_valid_y)\n",
    "    #         plt.plot([0,1], 'k--')\n",
    "    #         plt.plot(fpr1, tpr1, label= \"Train\")\n",
    "    #         plt.plot(fpr2, tpr2, label= \"Valid\")\n",
    "    #         plt.legend()\n",
    "    #         plt.xlabel(\"FPR\")\n",
    "    #         plt.ylabel(\"TPR\")\n",
    "    #         plt.title('AUROC Curve')\n",
    "    #         plt.show()\n",
    "    #     except:\n",
    "    #         pass\n",
    "    # if return_pred and return_auc and version == 1:\n",
    "    #     return pred, auc_train, auc_valid\n",
    "    # elif return_pred:\n",
    "    #     return pred\n",
    "    # else:\n",
    "    #     return"
   ]
  },
  {
   "cell_type": "code",
   "execution_count": 135,
   "metadata": {},
   "outputs": [],
   "source": [
    "def evaluate(model, train, test, train_y, real_y):\n",
    "    model.fit(train, train_y)\n",
    "    model_train_y = model.predict(train)\n",
    "    pred = model.predict(test)\n",
    "    # return pred\n",
    "    # pred = np.array(model.predict(test)).reshape(-1,1)\n",
    "    # pred = pred[:37692]\n",
    "    # real_y = np.array(real_y).reshape(-1,1)\n",
    "    # print(calc_corr(train_y, model_train_y))\n",
    "    # print(calc_corr(real_y, pred))\n",
    "    # print(real_y.shape)\n",
    "    # print(pred.shape)\n",
    "    # print(\"train_score\",calc_corr(train_y, model_train_y))\n",
    "    # print(\"prediction_score\",calc_corr(pred, real_y))\n",
    "    # train_y = pd.DataFrame(train_y)\n",
    "    # model_train_y = pd.DataFrame(model_train_y)\n",
    "    # combined0 = pd.concat([train_y,model_train_y],axis = 1)\n",
    "    # print(combined0.corr())\n",
    "    # pred_temp = pd.DataFrame(pred_temp)\n",
    "    # real_y = pd.DataFrame(real_y)\n",
    "    # combined = pd.concat([pred_temp,real_y],axis = 1)\n",
    "    # print(combined.corr())\n",
    "    # dt = pd.read_csv(\"../sub/sample_submission.csv\")\n",
    "    # dt[\"stock_id\"] = dt[\"date_time\"].apply(lambda x: x.split(\"d\")[0][1:]).astype(\"int\")\n",
    "    # dt[\"day\"] = dt[\"date_time\"].apply(lambda x: x.split(\"d\")[1][:]).astype(\"int\")\n",
    "    # dt = dt.drop(columns=[\"return\"]).sort_values(by=[\"stock_id\", \"day\"])\n",
    "    # dt = dt.reset_index(drop=True)\n",
    "    # pred = pd.concat([dt, pd.DataFrame(pred, columns=[\"return\"])], axis=1)\n",
    "    # pred = pred.sort_values(by=[\"day\", \"stock_id\"]).reset_index(drop=True)[\"return\"]\n",
    "    print(calc_corr(train_y, model_train_y))\n",
    "    print(calc_corr(real_y, pred[:37692]))\n",
    "    # pred_subset = []\n",
    "    # for stock in range(stock_num):\n",
    "    #     stock_info = pred[stock*test_day_num:(stock+1)*test_day_num-2]\n",
    "    #     pred_subset.append(stock_info)\n",
    "    # pred_subset = np.array(pred_subset).reshape(-1,1).squeeze(1)\n",
    "    # print(calc_corr(np.array(real_y), pred_subset))\n",
    "    return pred"
   ]
  },
  {
   "cell_type": "code",
   "execution_count": 177,
   "metadata": {},
   "outputs": [],
   "source": [
    "def evaluate2(model, train, test, train_y, real_y):\n",
    "    model.fit(train, train_y)\n",
    "    model_train_y = model.predict(train)\n",
    "    pred = model.predict(test)\n",
    "    # print(calc_corr(train_y, model_train_y))\n",
    "    # print(calc_corr(real_y, pred[:698]))\n",
    "    return pred"
   ]
  },
  {
   "cell_type": "markdown",
   "metadata": {},
   "source": [
    "## Load Data"
   ]
  },
  {
   "cell_type": "code",
   "execution_count": 137,
   "metadata": {},
   "outputs": [],
   "source": [
    "write_path = \"../data/\"\n",
    "\n",
    "train_path = write_path + \"train.csv\"\n",
    "test_path = write_path + \"test.csv\"\n",
    "real_return_path = write_path + \"real_return.csv\"\n",
    "# real_return_path = write_path + \"real_return_reorder.csv\"\n",
    "\n",
    "train = pd.read_csv(train_path)\n",
    "test = pd.read_csv(test_path)\n",
    "real_return = pd.read_csv(real_return_path)"
   ]
  },
  {
   "cell_type": "code",
   "execution_count": 138,
   "metadata": {},
   "outputs": [],
   "source": [
    "train_y = train[\"return\"]\n",
    "train = train.drop(columns=[\"return\", \"date_time\", \"stock_id\", \"day\"])\n",
    "\n",
    "test = test.drop(columns=[\"date_time\", \"stock_id\", \"day\"])\n",
    "\n",
    "real_y = real_return[\"return\"]"
   ]
  },
  {
   "attachments": {},
   "cell_type": "markdown",
   "metadata": {},
   "source": [
    "## Normalization"
   ]
  },
  {
   "cell_type": "code",
   "execution_count": 21,
   "metadata": {},
   "outputs": [],
   "source": [
    "# train, valid, test = std(train.iloc[:, 3:-1], valid.iloc[:, 3:-1], test.iloc[:, 3:])"
   ]
  },
  {
   "attachments": {},
   "cell_type": "markdown",
   "metadata": {},
   "source": [
    "## Model"
   ]
  },
  {
   "attachments": {},
   "cell_type": "markdown",
   "metadata": {},
   "source": [
    "### Linear Regression"
   ]
  },
  {
   "cell_type": "code",
   "execution_count": 149,
   "metadata": {},
   "outputs": [
    {
     "name": "stdout",
     "output_type": "stream",
     "text": [
      "0.08185975427789273\n",
      "0.040371253903712594\n"
     ]
    }
   ],
   "source": [
    "model = LinearRegression()\n",
    "pred = evaluate(model, train, test, train_y, real_y)"
   ]
  },
  {
   "attachments": {},
   "cell_type": "markdown",
   "metadata": {},
   "source": [
    "### Ridge Regression"
   ]
  },
  {
   "cell_type": "code",
   "execution_count": 140,
   "metadata": {},
   "outputs": [
    {
     "name": "stdout",
     "output_type": "stream",
     "text": [
      "0.07108389523027638\n",
      "0.05978931377050287\n"
     ]
    }
   ],
   "source": [
    "model = Ridge(alpha=1e8)\n",
    "pred = evaluate(model, train, test, train_y, real_y)"
   ]
  },
  {
   "attachments": {},
   "cell_type": "markdown",
   "metadata": {},
   "source": [
    "### Lasso Regression"
   ]
  },
  {
   "cell_type": "code",
   "execution_count": 146,
   "metadata": {},
   "outputs": [
    {
     "name": "stdout",
     "output_type": "stream",
     "text": [
      "0.07082556523046829\n",
      "0.05973729199810845\n"
     ]
    }
   ],
   "source": [
    "model = Lasso(alpha=1)\n",
    "pred = evaluate(model, train, test, train_y, real_y)"
   ]
  },
  {
   "cell_type": "code",
   "execution_count": 216,
   "metadata": {},
   "outputs": [
    {
     "name": "stdout",
     "output_type": "stream",
     "text": [
      "0.012 0.07225325752784392\n"
     ]
    }
   ],
   "source": [
    "# [1e-1,1e-2,1e-3,1e-4,1e-5,1e-6,1e-7,1e-8,1e-9,1e-10]\n",
    "# [1e1,1e2,1e3,1e4,1e5,1e6,1e7,1e8,1e9,1e10]\n",
    "for i in [0.012]:\n",
    "    result = None\n",
    "    for stock in range(stock_num):\n",
    "        start = stock * day_num\n",
    "        end = start + day_num\n",
    "        model = Ridge(alpha=i, normalize=True)\n",
    "        pred = evaluate2(\n",
    "            model, \n",
    "            train.iloc[stock*day_num:(stock+1)*day_num, :], \n",
    "            test.iloc[stock*test_day_num:(stock+1)*test_day_num, :], \n",
    "            train_y.iloc[stock*day_num:(stock+1)*day_num], \n",
    "            real_y.iloc[stock*test_day_num:(stock+1)*test_day_num-2]\n",
    "            # real_y.iloc[[i for i in range(stock, len(real_y), stock_num)]]\n",
    "        )\n",
    "        if result is None:\n",
    "            result = pred\n",
    "        else:\n",
    "            result = np.concatenate([result, pred], axis=0)\n",
    "    print(i, calc_corr(result[:37692], real_y))"
   ]
  },
  {
   "cell_type": "markdown",
   "metadata": {},
   "source": [
    "## Submission"
   ]
  },
  {
   "cell_type": "code",
   "execution_count": 88,
   "metadata": {},
   "outputs": [],
   "source": [
    "submit(pred)"
   ]
  }
 ],
 "metadata": {
  "kernelspec": {
   "display_name": "Python 3.9.12 ('base')",
   "language": "python",
   "name": "python3"
  },
  "language_info": {
   "codemirror_mode": {
    "name": "ipython",
    "version": 3
   },
   "file_extension": ".py",
   "mimetype": "text/x-python",
   "name": "python",
   "nbconvert_exporter": "python",
   "pygments_lexer": "ipython3",
   "version": "3.9.12"
  },
  "orig_nbformat": 4,
  "vscode": {
   "interpreter": {
    "hash": "800b2c1448e2ea079d66e8039536a26ab9dab7a446f882031feb022006dbbbf7"
   }
  }
 },
 "nbformat": 4,
 "nbformat_minor": 2
}
