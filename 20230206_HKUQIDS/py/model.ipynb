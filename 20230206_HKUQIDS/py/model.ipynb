{
 "cells": [
  {
   "attachments": {},
   "cell_type": "markdown",
   "metadata": {},
   "source": [
    "# HKU QIDS 2023 Quantitative Investment Competition: Model"
   ]
  },
  {
   "cell_type": "markdown",
   "metadata": {},
   "source": [
    "## Init Config"
   ]
  },
  {
   "cell_type": "code",
   "execution_count": 315,
   "metadata": {},
   "outputs": [],
   "source": [
    "import pandas as pd\n",
    "import numpy as np\n",
    "import matplotlib.pyplot as plt\n",
    "from qids_package.qids import *\n",
    "import warnings\n",
    "from submit import submit\n",
    "\n",
    "from sklearn.preprocessing import StandardScaler\n",
    "from sklearn.linear_model import LinearRegression\n",
    "from sklearn.linear_model import Ridge\n",
    "from sklearn.linear_model import Lasso\n",
    "\n",
    "warnings.filterwarnings(\"ignore\")"
   ]
  },
  {
   "cell_type": "code",
   "execution_count": 316,
   "metadata": {},
   "outputs": [],
   "source": [
    "seed = 257248\n",
    "stock_num = 54\n",
    "day_num_total = 1000\n",
    "day_num = 1000 - 2\n",
    "test_day_num = 700\n",
    "timeslot_num = 50"
   ]
  },
  {
   "cell_type": "code",
   "execution_count": 317,
   "metadata": {},
   "outputs": [],
   "source": [
    "def std(train, valid, test=None):\n",
    "    scaler = StandardScaler()\n",
    "    scaler.fit(train)\n",
    "    train = scaler.transform(train)\n",
    "    valid = scaler.transform(valid)\n",
    "    if test is not None:\n",
    "        test = scaler.transform(test)\n",
    "    return train, valid, test"
   ]
  },
  {
   "cell_type": "code",
   "execution_count": 318,
   "metadata": {},
   "outputs": [],
   "source": [
    "def calc_corr(df1, df2):\n",
    "    return np.corrcoef(df1, df2)[0][1]"
   ]
  },
  {
   "cell_type": "code",
   "execution_count": 319,
   "metadata": {},
   "outputs": [],
   "source": [
    "# def evaluate(model, train, valid, test, train_y, valid_y, return_pred=True, version=2, return_auc=False, plot_auc=False):\n",
    "#     model.fit(train, train_y)\n",
    "#     if version == 2:\n",
    "#         model_train_y = model.predict(train)\n",
    "#         model_valid_y = model.predict(valid)\n",
    "#         pred = model.predict(test)\n",
    "#         acr_train = model.score(train, train_y)\n",
    "#         acr_valid = model.score(valid, valid_y)\n",
    "#         print(calc_corr(train_y, model_train_y))\n",
    "#         print(calc_corr(valid_y, model_valid_y))\n",
    "#         if return_pred:\n",
    "#             return pred\n",
    "    #     cm = confusion_matrix(train_y, model_train_y)\n",
    "    #     tn, fp, fn, tp = cm.ravel()\n",
    "    #     print(f\"Train AUROC: {roc_auc_score(train_y, model_train_y):.4f}; FP: {fp:>4d}; FN: {fn:>4d}\")\n",
    "    #     cm = confusion_matrix(valid_y, model_valid_y)\n",
    "    #     tn, fp, fn, tp = cm.ravel()\n",
    "    #     print(f\"Valid AUROC: {roc_auc_score(valid_y, model_valid_y):.4f}; FP: {fp:>4d}; FN: {fn:>4d}\")\n",
    "    #     print()\n",
    "    # elif version == 3:\n",
    "    #     pred_train = model.predict(train)\n",
    "    #     pred_valid = model.predict(valid)\n",
    "    #     pred = model.predict(test)\n",
    "    #     print(f\"Train RMSE: {mse(train_y, pred_train, squared=False):.4f}\")\n",
    "    #     print(f\"Valid RMSE: {mse(valid_y, pred_valid, squared=False):.4f}\")\n",
    "    # else:\n",
    "    #     model_train_y = model.predict_proba(train)[:,1]\n",
    "    #     model_valid_y = model.predict_proba(valid)[:,1]\n",
    "    #     pred = model.predict_proba(test)[:,1]\n",
    "    #     acr_train = model.score(train, train_y)\n",
    "    #     acr_valid = model.score(valid, valid_y)\n",
    "    #     print(f\"Train Accuracy: {acr_train:.4f}; Validation Accuracy: {acr_valid:.4f}\")\n",
    "    #     auc_train = roc_auc_score(train_y, model_train_y)\n",
    "    #     auc_valid = roc_auc_score(valid_y, model_valid_y)\n",
    "    #     print(f\"Train AUROC: {auc_train:.4f}\")\n",
    "    #     print(f\"Valid AUROC: {auc_valid:.4f}\")\n",
    "    #     print()\n",
    "    # if plot_auc:\n",
    "    #     try:\n",
    "    #         fpr1, tpr1, thresholds1 = roc_curve(train_y, model_train_y)\n",
    "    #         fpr2, tpr2, thresholds2 = roc_curve(valid_y, model_valid_y)\n",
    "    #         plt.plot([0,1], 'k--')\n",
    "    #         plt.plot(fpr1, tpr1, label= \"Train\")\n",
    "    #         plt.plot(fpr2, tpr2, label= \"Valid\")\n",
    "    #         plt.legend()\n",
    "    #         plt.xlabel(\"FPR\")\n",
    "    #         plt.ylabel(\"TPR\")\n",
    "    #         plt.title('AUROC Curve')\n",
    "    #         plt.show()\n",
    "    #     except:\n",
    "    #         pass\n",
    "    # if return_pred and return_auc and version == 1:\n",
    "    #     return pred, auc_train, auc_valid\n",
    "    # elif return_pred:\n",
    "    #     return pred\n",
    "    # else:\n",
    "    #     return"
   ]
  },
  {
   "cell_type": "code",
   "execution_count": 320,
   "metadata": {},
   "outputs": [],
   "source": [
    "def evaluate(model, train, test, train_y, real_y):\n",
    "    model.fit(train, train_y)\n",
    "    model_train_y = model.predict(train)\n",
    "    pred = model.predict(test)\n",
    "    # return pred\n",
    "    # pred = np.array(model.predict(test)).reshape(-1,1)\n",
    "    # pred = pred[:37692]\n",
    "    # real_y = np.array(real_y).reshape(-1,1)\n",
    "    # print(calc_corr(train_y, model_train_y))\n",
    "    # print(calc_corr(real_y, pred))\n",
    "    # print(real_y.shape)\n",
    "    # print(pred.shape)\n",
    "    # print(\"train_score\",calc_corr(train_y, model_train_y))\n",
    "    # print(\"prediction_score\",calc_corr(pred, real_y))\n",
    "    # train_y = pd.DataFrame(train_y)\n",
    "    # model_train_y = pd.DataFrame(model_train_y)\n",
    "    # combined0 = pd.concat([train_y,model_train_y],axis = 1)\n",
    "    # print(combined0.corr())\n",
    "    # pred_temp = pd.DataFrame(pred_temp)\n",
    "    # real_y = pd.DataFrame(real_y)\n",
    "    # combined = pd.concat([pred_temp,real_y],axis = 1)\n",
    "    # print(combined.corr())\n",
    "    # dt = pd.read_csv(\"../sub/sample_submission.csv\")\n",
    "    # dt[\"stock_id\"] = dt[\"date_time\"].apply(lambda x: x.split(\"d\")[0][1:]).astype(\"int\")\n",
    "    # dt[\"day\"] = dt[\"date_time\"].apply(lambda x: x.split(\"d\")[1][:]).astype(\"int\")\n",
    "    # dt = dt.drop(columns=[\"return\"]).sort_values(by=[\"stock_id\", \"day\"])\n",
    "    # dt = dt.reset_index(drop=True)\n",
    "    # pred = pd.concat([dt, pd.DataFrame(pred, columns=[\"return\"])], axis=1)\n",
    "    # pred = pred.sort_values(by=[\"day\", \"stock_id\"]).reset_index(drop=True)[\"return\"]\n",
    "    print(calc_corr(train_y, model_train_y))\n",
    "    print(calc_corr(real_y, pred)) #[:37692]\n",
    "    # pred_subset = []\n",
    "    # for stock in range(stock_num):\n",
    "    #     stock_info = pred[stock*test_day_num:(stock+1)*test_day_num-2]\n",
    "    #     pred_subset.append(stock_info)\n",
    "    # pred_subset = np.array(pred_subset).reshape(-1,1).squeeze(1)\n",
    "    # print(calc_corr(np.array(real_y), pred_subset))\n",
    "    return pred"
   ]
  },
  {
   "cell_type": "code",
   "execution_count": 321,
   "metadata": {},
   "outputs": [],
   "source": [
    "def evaluate2(model, train, test, train_y, real_y):\n",
    "    model.fit(train, train_y)\n",
    "    model_train_y = model.predict(train)\n",
    "    pred = model.predict(test)\n",
    "    # print(calc_corr(train_y, model_train_y))\n",
    "    # print(calc_corr(real_y, pred[:698]))\n",
    "    return pred"
   ]
  },
  {
   "cell_type": "markdown",
   "metadata": {},
   "source": [
    "## Load Data"
   ]
  },
  {
   "cell_type": "code",
   "execution_count": 322,
   "metadata": {},
   "outputs": [],
   "source": [
    "write_path = \"../data/\"\n",
    "\n",
    "train_path = write_path + \"train.csv\"\n",
    "test_path = write_path + \"test.csv\"\n",
    "train_path = write_path + \"train_github.csv\"\n",
    "test_path = write_path + \"test_github.csv\"\n",
    "real_return_path = write_path + \"real_return.csv\"\n",
    "# real_return_path = write_path + \"real_return_reorder.csv\"\n",
    "\n",
    "train = pd.read_csv(train_path)\n",
    "test = pd.read_csv(test_path)\n",
    "real_return = pd.read_csv(real_return_path)"
   ]
  },
  {
   "cell_type": "code",
   "execution_count": 323,
   "metadata": {},
   "outputs": [],
   "source": [
    "train_y = train[\"return\"]\n",
    "train = train.drop(columns=[\"return\", \"date_time\", \"stock_id\", \"day\"])\n",
    "\n",
    "test = test.drop(columns=[\"date_time\", \"stock_id\", \"day\"])\n",
    "\n",
    "real_y = real_return[\"return\"]"
   ]
  },
  {
   "cell_type": "code",
   "execution_count": 325,
   "metadata": {},
   "outputs": [
    {
     "name": "stdout",
     "output_type": "stream",
     "text": [
      "['Unnamed: 0']\n",
      "0.012 0.07309882288504638\n",
      "['pe_ttm']\n",
      "0.012 0.07473797739612163\n",
      "['transactionAmount']\n",
      "0.012 0.07629836798005422\n",
      "['pe_ttm_1']\n",
      "0.012 0.0779544051184963\n",
      "['pcf_2']\n",
      "0.012 0.07918095926115708\n",
      "['volume_min']\n",
      "0.012 0.07998880259715209\n",
      "['pcf_growth']\n",
      "0.012 0.08072353737572927\n",
      "['money_mean']\n",
      "0.012 0.08113184448997164\n",
      "['pe_1']\n",
      "0.012 0.0815258350820373\n",
      "['pcf_1']\n",
      "0.012 0.0817329781107182\n",
      "['money_max']\n",
      "0.012 0.08191697465215016\n",
      "['volume_max']\n",
      "0.012 0.08208681206590654\n",
      "['money_min']\n",
      "0.012 0.08226219585689111\n",
      "['pb_sma50']\n",
      "0.012 0.08242818877288838\n",
      "['ps_sma50']\n",
      "0.012 0.08253364965498108\n",
      "['ps_sma10']\n",
      "0.012 0.08263202782118692\n",
      "['ps_sma25']\n",
      "0.012 0.08407034251544272\n",
      "['pb_sma10']\n",
      "0.012 0.08430728777826595\n",
      "['pb']\n",
      "0.012 0.08440765089300338\n",
      "['low_mean']\n",
      "0.012 0.08446833148033558\n",
      "['low_min']\n",
      "0.012 0.08453901680423129\n",
      "['close_mean']\n",
      "0.012 0.0846222436961079\n",
      "['open_mean']\n",
      "0.012 0.08473711409418402\n",
      "['high_mean']\n",
      "0.012 0.08488773573598724\n",
      "['pe_ttm_growth']\n",
      "0.012 0.08503482443408031\n",
      "['pe_growth']\n",
      "0.012 0.08515141654749282\n",
      "['pb_growth']\n",
      "0.012 0.08547700332700944\n",
      "['pe']\n",
      "0.012 0.08570581086617582\n",
      "['ps']\n",
      "0.012 0.08688111851527194\n",
      "['high_max']\n",
      "0.012 0.08708926518482495\n",
      "['pcf_sma10']\n",
      "0.012 0.0870995816526026\n"
     ]
    },
    {
     "ename": "IndexError",
     "evalue": "list index out of range",
     "output_type": "error",
     "traceback": [
      "\u001b[0;31m---------------------------------------------------------------------------\u001b[0m",
      "\u001b[0;31mIndexError\u001b[0m                                Traceback (most recent call last)",
      "\u001b[1;32m/Users/lhw/Desktop/study/lhw/kaggle/20230206_HKUQIDS/py/model.ipynb 单元格 13\u001b[0m in \u001b[0;36m<cell line: 4>\u001b[0;34m()\u001b[0m\n\u001b[1;32m     <a href='vscode-notebook-cell:/Users/lhw/Desktop/study/lhw/kaggle/20230206_HKUQIDS/py/model.ipynb#Y114sZmlsZQ%3D%3D?line=31'>32</a>\u001b[0m             abandon[names[k]] \u001b[39m=\u001b[39m cor\n\u001b[1;32m     <a href='vscode-notebook-cell:/Users/lhw/Desktop/study/lhw/kaggle/20230206_HKUQIDS/py/model.ipynb#Y114sZmlsZQ%3D%3D?line=32'>33</a>\u001b[0m \u001b[39m# abandon_cols = [col[0] for col in abandon]\u001b[39;00m\n\u001b[0;32m---> <a href='vscode-notebook-cell:/Users/lhw/Desktop/study/lhw/kaggle/20230206_HKUQIDS/py/model.ipynb#Y114sZmlsZQ%3D%3D?line=33'>34</a>\u001b[0m abandon_cols \u001b[39m=\u001b[39m [\u001b[39msorted\u001b[39;49m(abandon, key\u001b[39m=\u001b[39;49m\u001b[39mlambda\u001b[39;49;00m k: abandon[k], reverse\u001b[39m=\u001b[39;49m\u001b[39mTrue\u001b[39;49;00m)[\u001b[39m0\u001b[39;49m]]\n\u001b[1;32m     <a href='vscode-notebook-cell:/Users/lhw/Desktop/study/lhw/kaggle/20230206_HKUQIDS/py/model.ipynb#Y114sZmlsZQ%3D%3D?line=34'>35</a>\u001b[0m \u001b[39mprint\u001b[39m(abandon_cols)\n\u001b[1;32m     <a href='vscode-notebook-cell:/Users/lhw/Desktop/study/lhw/kaggle/20230206_HKUQIDS/py/model.ipynb#Y114sZmlsZQ%3D%3D?line=35'>36</a>\u001b[0m \u001b[39mfor\u001b[39;00m i \u001b[39min\u001b[39;00m [\u001b[39m0.012\u001b[39m]:\n",
      "\u001b[0;31mIndexError\u001b[0m: list index out of range"
     ]
    }
   ],
   "source": [
    "abandon_all = []\n",
    "last_cor = 0.05496612532000942\n",
    "last_abandon = [\"all\"]\n",
    "while last_abandon:\n",
    "    abandon = {}\n",
    "    names = train.corr()[train.columns[-1]].sort_values().index\n",
    "    for k in range(len(names)):\n",
    "        # print(k, names[k])\n",
    "        for i in [0.012]:\n",
    "            result = None\n",
    "            for stock in range(stock_num):\n",
    "                start = stock * day_num\n",
    "                end = start + day_num\n",
    "                model = Ridge(alpha=i, normalize=True)\n",
    "                pred = evaluate2(\n",
    "                    model, \n",
    "                    train.drop(columns=[names[k]]).iloc[stock*day_num:(stock+1)*day_num, :], \n",
    "                    test.drop(columns=[names[k]]).iloc[stock*test_day_num:(stock+1)*test_day_num, :], \n",
    "                    # train[list(names[:k])].iloc[stock*day_num:(stock+1)*day_num, :], \n",
    "                    # test[list(names[:k])].iloc[stock*test_day_num:(stock+1)*test_day_num, :], \n",
    "                    train_y.iloc[stock*day_num:(stock+1)*day_num], \n",
    "                    real_y.iloc[stock*test_day_num:(stock+1)*test_day_num-2]\\\n",
    "                )\n",
    "                if result is None:\n",
    "                    result = pred\n",
    "                else:\n",
    "                    result = np.concatenate([result, pred], axis=0)\n",
    "            cor = calc_corr(result, real_y)\n",
    "            # print(i, cor)\n",
    "            if cor > last_cor:\n",
    "                # abandon.append([names[k], cor])\n",
    "                abandon[names[k]] = cor\n",
    "    # abandon_cols = [col[0] for col in abandon]\n",
    "    if abandon:\n",
    "        abandon_cols = [sorted(abandon, key=lambda k: abandon[k], reverse=True)[0]]\n",
    "        print(abandon_cols)\n",
    "    else:\n",
    "        break\n",
    "    for i in [0.012]:\n",
    "        result = None\n",
    "        for stock in range(stock_num):\n",
    "            start = stock * day_num\n",
    "            end = start + day_num\n",
    "            model = Ridge(alpha=i, normalize=True)\n",
    "            pred = evaluate2(\n",
    "                model, \n",
    "                train.drop(columns=abandon_cols).iloc[stock*day_num:(stock+1)*day_num, :], \n",
    "                test.drop(columns=abandon_cols).iloc[stock*test_day_num:(stock+1)*test_day_num, :], \n",
    "                # train[list(names[:k])].iloc[stock*day_num:(stock+1)*day_num, :], \n",
    "                # test[list(names[:k])].iloc[stock*test_day_num:(stock+1)*test_day_num, :], \n",
    "                train_y.iloc[stock*day_num:(stock+1)*day_num], \n",
    "                real_y.iloc[stock*test_day_num:(stock+1)*test_day_num-2]\n",
    "                # real_y.iloc[[i for i in range(stock, len(real_y), stock_num)]]\n",
    "            )\n",
    "            if result is None:\n",
    "                result = pred\n",
    "            else:\n",
    "                result = np.concatenate([result, pred], axis=0)\n",
    "        cor = calc_corr(result, real_y)\n",
    "        print(i, cor)\n",
    "    if cor < last_cor:\n",
    "        break\n",
    "    abandon_all.append(abandon_cols[0])\n",
    "    last_cor = cor\n",
    "    last_abandon = abandon\n",
    "    train = train.drop(columns=abandon_cols)\n",
    "    test = test.drop(columns=abandon_cols)"
   ]
  },
  {
   "cell_type": "code",
   "execution_count": 327,
   "metadata": {},
   "outputs": [
    {
     "name": "stdout",
     "output_type": "stream",
     "text": [
      "0.012 0.0870995816526026\n"
     ]
    }
   ],
   "source": [
    "for i in [0.012]:\n",
    "    result = None\n",
    "    for stock in range(stock_num):\n",
    "        start = stock * day_num\n",
    "        end = start + day_num\n",
    "        model = Ridge(alpha=i, normalize=True)\n",
    "        pred = evaluate2(\n",
    "            model, \n",
    "            train.iloc[stock*day_num:(stock+1)*day_num, :], \n",
    "            test.iloc[stock*test_day_num:(stock+1)*test_day_num, :], \n",
    "            train_y.iloc[stock*day_num:(stock+1)*day_num], \n",
    "            real_y.iloc[stock*test_day_num:(stock+1)*test_day_num-2]\n",
    "            # real_y.iloc[[i for i in range(stock, len(real_y), stock_num)]]\n",
    "        )\n",
    "        if result is None:\n",
    "            result = pred\n",
    "        else:\n",
    "            result = np.concatenate([result, pred], axis=0)\n",
    "    print(i, calc_corr(result, real_y))"
   ]
  },
  {
   "cell_type": "code",
   "execution_count": 328,
   "metadata": {},
   "outputs": [],
   "source": [
    "submit(result)"
   ]
  },
  {
   "attachments": {},
   "cell_type": "markdown",
   "metadata": {},
   "source": [
    "#### temp"
   ]
  },
  {
   "cell_type": "code",
   "execution_count": null,
   "metadata": {},
   "outputs": [],
   "source": [
    "abandon_all = []\n",
    "last_cor = 0.05496612532000942\n",
    "last_abandon = [\"all\"]\n",
    "while last_abandon:\n",
    "    abandon = []\n",
    "    names = train.corr()[train.columns[-1]].sort_values().index\n",
    "    for k in range(len(names)):\n",
    "        # print(k, names[k])\n",
    "        for i in [0.012]:\n",
    "            result = None\n",
    "            for stock in range(stock_num):\n",
    "                start = stock * day_num\n",
    "                end = start + day_num\n",
    "                model = Ridge(alpha=i, normalize=True)\n",
    "                pred = evaluate2(\n",
    "                    model, \n",
    "                    train.drop(columns=[names[k]]).iloc[stock*day_num:(stock+1)*day_num, :], \n",
    "                    test.drop(columns=[names[k]]).iloc[stock*test_day_num:(stock+1)*test_day_num, :], \n",
    "                    # train[list(names[:k])].iloc[stock*day_num:(stock+1)*day_num, :], \n",
    "                    # test[list(names[:k])].iloc[stock*test_day_num:(stock+1)*test_day_num, :], \n",
    "                    train_y.iloc[stock*day_num:(stock+1)*day_num], \n",
    "                    real_y.iloc[stock*test_day_num:(stock+1)*test_day_num-2]\\\n",
    "                )\n",
    "                if result is None:\n",
    "                    result = pred\n",
    "                else:\n",
    "                    result = np.concatenate([result, pred], axis=0)\n",
    "            cor = calc_corr(result, real_y)\n",
    "            # print(i, cor)\n",
    "            if cor > last_cor:\n",
    "                abandon.append([names[k], cor])\n",
    "    abandon_cols = [col[0] for col in abandon]\n",
    "    print(abandon_cols)\n",
    "    for i in [0.012]:\n",
    "        result = None\n",
    "        for stock in range(stock_num):\n",
    "            start = stock * day_num\n",
    "            end = start + day_num\n",
    "            model = Ridge(alpha=i, normalize=True)\n",
    "            pred = evaluate2(\n",
    "                model, \n",
    "                train.drop(columns=abandon_cols).iloc[stock*day_num:(stock+1)*day_num, :], \n",
    "                test.drop(columns=abandon_cols).iloc[stock*test_day_num:(stock+1)*test_day_num, :], \n",
    "                # train[list(names[:k])].iloc[stock*day_num:(stock+1)*day_num, :], \n",
    "                # test[list(names[:k])].iloc[stock*test_day_num:(stock+1)*test_day_num, :], \n",
    "                train_y.iloc[stock*day_num:(stock+1)*day_num], \n",
    "                real_y.iloc[stock*test_day_num:(stock+1)*test_day_num-2]\n",
    "                # real_y.iloc[[i for i in range(stock, len(real_y), stock_num)]]\n",
    "            )\n",
    "            if result is None:\n",
    "                result = pred\n",
    "            else:\n",
    "                result = np.concatenate([result, pred], axis=0)\n",
    "        cor = calc_corr(result, real_y)\n",
    "        print(i, cor)\n",
    "    if cor < last_cor:\n",
    "        break\n",
    "    abandon_all.append()\n",
    "    last_cor = cor\n",
    "    last_abandon = abandon\n",
    "    train = train.drop(columns=abandon_cols)\n",
    "    test = test.drop(columns=abandon_cols)"
   ]
  },
  {
   "cell_type": "code",
   "execution_count": 273,
   "metadata": {},
   "outputs": [],
   "source": [
    "abandon_more = ['low_min', 'low_mean', 'low', 'open_mean', 'close_mean', 'close', 'open', 'high', 'high_mean', 'high_max', 'pe_ttm', 'pe_sma50', 'pe_sma25', 'Unnamed: 0', 'pe_growth', 'pcf_growth', 'pcf_2', 'pcf_sma10', 'pcf_sma25', 'pe_ttm_sma25', 'pe_ttm_sma50', 'pe_2', 'pb', 'money_min', 'volume_var', 'money_mean', 'volume_min', 'money_max', 'volume_std', 'time_step']\n",
    "train = train.drop(columns=abandon_more)\n",
    "test = test.drop(columns=abandon_more)"
   ]
  },
  {
   "cell_type": "code",
   "execution_count": 276,
   "metadata": {},
   "outputs": [],
   "source": [
    "abandon_more_2 = [\"pe_ttm_1\", \"ps_2\", \"volume_max\"]\n",
    "train = train.drop(columns=abandon_more_2)\n",
    "test = test.drop(columns=abandon_more_2)"
   ]
  },
  {
   "cell_type": "code",
   "execution_count": 231,
   "metadata": {},
   "outputs": [],
   "source": [
    "abandon_cols = ['low_mean', 'money_mean', 'volume_min', 'transactionAmount']\n",
    "train = train.drop(columns=abandon_cols)\n",
    "test = test.drop(columns=abandon_cols)"
   ]
  },
  {
   "cell_type": "code",
   "execution_count": 237,
   "metadata": {},
   "outputs": [],
   "source": [
    "abandon_cols_2 = ['low_min', 'open_mean', 'close_mean', 'high_mean', 'money_max', 'volume_std']\n",
    "train = train.drop(columns=abandon_cols_2)\n",
    "test = test.drop(columns=abandon_cols_2)"
   ]
  },
  {
   "cell_type": "code",
   "execution_count": 277,
   "metadata": {},
   "outputs": [
    {
     "name": "stdout",
     "output_type": "stream",
     "text": [
      "0 pe_ttm_2\n",
      "0.012 0.05494779479418194\n",
      "1 pe_sma10\n",
      "0.012 0.07131244009881266\n",
      "2 pe_ttm_growth\n",
      "0.012 0.07204076266571377\n",
      "3 pcf_1\n",
      "0.012 0.0726384942350757\n",
      "4 pcf\n",
      "0.012 0.07275042539996805\n",
      "5 ps_sma50\n",
      "0.012 0.07198927238154523\n",
      "6 ps_sma25\n",
      "0.012 0.07187478998402276\n",
      "7 ps_sma10\n",
      "0.012 0.07185646757741083\n",
      "8 pb_sma50\n",
      "0.012 0.07228870143132736\n",
      "9 ps_growth\n",
      "0.012 0.07328976848384391\n",
      "10 pb_sma25\n",
      "0.012 0.07180950246102642\n",
      "11 pb_sma10\n",
      "0.012 0.07192946137831374\n",
      "12 pe_ttm_sma10\n",
      "0.012 0.07153167381225888\n",
      "13 pcf_sma50\n",
      "0.012 0.07079170496226996\n",
      "14 pb_growth\n",
      "0.012 0.07293469654867875\n",
      "15 pe\n",
      "0.012 0.06963762951100745\n",
      "16 pe_1\n",
      "0.012 0.07183680252306528\n",
      "17 ps\n",
      "0.012 0.06987838854137217\n",
      "18 ps_1\n",
      "0.012 0.0630989028232632\n",
      "19 pb_1\n",
      "0.012 0.05379910785513546\n",
      "20 pb_2\n",
      "0.012 0.044231389832232314\n",
      "21 money_var\n",
      "0.012 0.06859238503925247\n",
      "22 money\n",
      "0.012 0.07245716996859612\n",
      "23 volume\n",
      "0.012 0.07163198251019445\n",
      "24 money_std\n",
      "0.012 0.06951290589059808\n",
      "25 transactionAmount\n",
      "0.012 0.07775256987576029\n",
      "26 volume_mean\n",
      "0.012 0.06686655799387645\n",
      "27 turnoverRatio\n",
      "0.012 0.07092785283917136\n",
      "28 price_diff\n",
      "0.012 0.07112058383703582\n",
      "29 price_diff_max\n",
      "0.012 0.0698940366945464\n"
     ]
    }
   ],
   "source": [
    "abandon = []\n",
    "names = train.corr()[train.columns[-1]].sort_values().index\n",
    "# for k in range(22, len(names)+1):\n",
    "for k in range(len(names)):\n",
    "    print(k, names[k])\n",
    "    # for i in [1e-1,1e-2,1e-3,1e-4,1e-5,1e-6,1e-7,1e-8,1e-9,1e-10] + [1e1,1e2,1e3,1e4,1e5,1e6,1e7,1e8,1e9,1e10]:\n",
    "    for i in [0.012]:\n",
    "        # print(i)\n",
    "        result = None\n",
    "        for stock in range(stock_num):\n",
    "            start = stock * day_num\n",
    "            end = start + day_num\n",
    "            model = Ridge(alpha=i, normalize=True)\n",
    "            pred = evaluate2(\n",
    "                model, \n",
    "                train.drop(columns=[names[k]]).iloc[stock*day_num:(stock+1)*day_num, :], \n",
    "                test.drop(columns=[names[k]]).iloc[stock*test_day_num:(stock+1)*test_day_num, :], \n",
    "                # train[list(names[:k])].iloc[stock*day_num:(stock+1)*day_num, :], \n",
    "                # test[list(names[:k])].iloc[stock*test_day_num:(stock+1)*test_day_num, :], \n",
    "                train_y.iloc[stock*day_num:(stock+1)*day_num], \n",
    "                real_y.iloc[stock*test_day_num:(stock+1)*test_day_num-2]\n",
    "                # real_y.iloc[[i for i in range(stock, len(real_y), stock_num)]]\n",
    "            )\n",
    "            if result is None:\n",
    "                result = pred\n",
    "            else:\n",
    "                result = np.concatenate([result, pred], axis=0)\n",
    "        cor = calc_corr(result, real_y)\n",
    "        print(i, cor)\n",
    "        if cor > 0.07979735900331283:\n",
    "            abandon.append([names[k], cor])"
   ]
  },
  {
   "cell_type": "code",
   "execution_count": 240,
   "metadata": {},
   "outputs": [
    {
     "data": {
      "text/plain": [
       "[]"
      ]
     },
     "execution_count": 240,
     "metadata": {},
     "output_type": "execute_result"
    }
   ],
   "source": [
    "abandon_cols = [col[0] for col in abandon]\n",
    "abandon_cols"
   ]
  },
  {
   "cell_type": "code",
   "execution_count": 241,
   "metadata": {},
   "outputs": [
    {
     "name": "stdout",
     "output_type": "stream",
     "text": [
      "0.012 0.07592918039280715\n"
     ]
    }
   ],
   "source": [
    "for i in [0.012]:\n",
    "    # print(i)\n",
    "    result = None\n",
    "    for stock in range(stock_num):\n",
    "        start = stock * day_num\n",
    "        end = start + day_num\n",
    "        model = Ridge(alpha=i, normalize=True)\n",
    "        pred = evaluate2(\n",
    "            model, \n",
    "            train.drop(columns=abandon_cols).iloc[stock*day_num:(stock+1)*day_num, :], \n",
    "            test.drop(columns=abandon_cols).iloc[stock*test_day_num:(stock+1)*test_day_num, :], \n",
    "            # train[list(names[:k])].iloc[stock*day_num:(stock+1)*day_num, :], \n",
    "            # test[list(names[:k])].iloc[stock*test_day_num:(stock+1)*test_day_num, :], \n",
    "            train_y.iloc[stock*day_num:(stock+1)*day_num], \n",
    "            real_y.iloc[stock*test_day_num:(stock+1)*test_day_num-2]\n",
    "            # real_y.iloc[[i for i in range(stock, len(real_y), stock_num)]]\n",
    "        )\n",
    "        if result is None:\n",
    "            result = pred\n",
    "        else:\n",
    "            result = np.concatenate([result, pred], axis=0)\n",
    "    cor = calc_corr(result, real_y)\n",
    "    print(i, cor)"
   ]
  },
  {
   "attachments": {},
   "cell_type": "markdown",
   "metadata": {},
   "source": [
    "## Normalization"
   ]
  },
  {
   "cell_type": "code",
   "execution_count": 145,
   "metadata": {},
   "outputs": [],
   "source": [
    "# train, valid, test = std(train.iloc[:, 3:-1], valid.iloc[:, 3:-1], test.iloc[:, 3:])"
   ]
  },
  {
   "attachments": {},
   "cell_type": "markdown",
   "metadata": {},
   "source": [
    "## Model"
   ]
  },
  {
   "attachments": {},
   "cell_type": "markdown",
   "metadata": {},
   "source": [
    "### Linear Regression"
   ]
  },
  {
   "cell_type": "code",
   "execution_count": 124,
   "metadata": {},
   "outputs": [
    {
     "name": "stdout",
     "output_type": "stream",
     "text": [
      "0.08185975427789274\n",
      "0.04034488821467451\n"
     ]
    }
   ],
   "source": [
    "model = LinearRegression()\n",
    "pred = evaluate(model, train, test, train_y, real_y)"
   ]
  },
  {
   "attachments": {},
   "cell_type": "markdown",
   "metadata": {},
   "source": [
    "### Ridge Regression"
   ]
  },
  {
   "cell_type": "code",
   "execution_count": 131,
   "metadata": {},
   "outputs": [
    {
     "name": "stdout",
     "output_type": "stream",
     "text": [
      "0.07108389523027633\n",
      "0.0597535859373132\n"
     ]
    }
   ],
   "source": [
    "model = Ridge(alpha=1e8)\n",
    "pred = evaluate(model, train, test, train_y, real_y)"
   ]
  },
  {
   "attachments": {},
   "cell_type": "markdown",
   "metadata": {},
   "source": [
    "### Lasso Regression"
   ]
  },
  {
   "cell_type": "code",
   "execution_count": 130,
   "metadata": {},
   "outputs": [
    {
     "name": "stdout",
     "output_type": "stream",
     "text": [
      "0.07082556523046826\n",
      "0.059702617533116835\n"
     ]
    }
   ],
   "source": [
    "model = Lasso(alpha=1)\n",
    "pred = evaluate(model, train, test, train_y, real_y)"
   ]
  },
  {
   "cell_type": "code",
   "execution_count": 129,
   "metadata": {},
   "outputs": [
    {
     "name": "stdout",
     "output_type": "stream",
     "text": [
      "0.012 0.07225595088513154\n"
     ]
    }
   ],
   "source": [
    "# [1e-1,1e-2,1e-3,1e-4,1e-5,1e-6,1e-7,1e-8,1e-9,1e-10]\n",
    "# [1e1,1e2,1e3,1e4,1e5,1e6,1e7,1e8,1e9,1e10]\n",
    "for i in [0.012]:\n",
    "    result = None\n",
    "    for stock in range(stock_num):\n",
    "        start = stock * day_num\n",
    "        end = start + day_num\n",
    "        model = Ridge(alpha=i, normalize=True)\n",
    "        pred = evaluate2(\n",
    "            model, \n",
    "            train.iloc[stock*day_num:(stock+1)*day_num, :], \n",
    "            test.iloc[stock*test_day_num:(stock+1)*test_day_num, :], \n",
    "            train_y.iloc[stock*day_num:(stock+1)*day_num], \n",
    "            real_y.iloc[stock*test_day_num:(stock+1)*test_day_num-2]\n",
    "            # real_y.iloc[[i for i in range(stock, len(real_y), stock_num)]]\n",
    "        )\n",
    "        if result is None:\n",
    "            result = pred\n",
    "        else:\n",
    "            result = np.concatenate([result, pred], axis=0)\n",
    "    print(i, calc_corr(result, real_y))"
   ]
  },
  {
   "attachments": {},
   "cell_type": "markdown",
   "metadata": {},
   "source": [
    "### Random Forest"
   ]
  },
  {
   "cell_type": "code",
   "execution_count": 32,
   "metadata": {},
   "outputs": [
    {
     "name": "stdout",
     "output_type": "stream",
     "text": [
      "0.09721523729185862\n",
      "0.002919757303658706\n"
     ]
    }
   ],
   "source": [
    "from sklearn.ensemble import RandomForestRegressor\n",
    "\n",
    "model = RandomForestRegressor(n_estimators=1000, max_depth=3, min_samples_split=50, random_state=seed)\n",
    "pred = evaluate(model, train, test, train_y, real_y)"
   ]
  },
  {
   "cell_type": "markdown",
   "metadata": {},
   "source": [
    "## Submission"
   ]
  },
  {
   "cell_type": "code",
   "execution_count": 88,
   "metadata": {},
   "outputs": [],
   "source": [
    "submit(pred)"
   ]
  }
 ],
 "metadata": {
  "kernelspec": {
   "display_name": "Python 3.9.12 ('base')",
   "language": "python",
   "name": "python3"
  },
  "language_info": {
   "codemirror_mode": {
    "name": "ipython",
    "version": 3
   },
   "file_extension": ".py",
   "mimetype": "text/x-python",
   "name": "python",
   "nbconvert_exporter": "python",
   "pygments_lexer": "ipython3",
   "version": "3.9.12"
  },
  "orig_nbformat": 4,
  "vscode": {
   "interpreter": {
    "hash": "800b2c1448e2ea079d66e8039536a26ab9dab7a446f882031feb022006dbbbf7"
   }
  }
 },
 "nbformat": 4,
 "nbformat_minor": 2
}
