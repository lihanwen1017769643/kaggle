{
 "cells": [
  {
   "attachments": {},
   "cell_type": "markdown",
   "metadata": {},
   "source": [
    "# HKU QIDS 2023 Quantitative Investment Competition: Model"
   ]
  },
  {
   "cell_type": "markdown",
   "metadata": {},
   "source": [
    "## Init Config"
   ]
  },
  {
   "cell_type": "code",
   "execution_count": 38,
   "metadata": {},
   "outputs": [],
   "source": [
    "import pandas as pd\n",
    "import numpy as np\n",
    "import matplotlib.pyplot as plt\n",
    "from qids_package.qids import *\n",
    "import warnings\n",
    "from submit import submit\n",
    "\n",
    "from sklearn.preprocessing import StandardScaler\n",
    "from sklearn.linear_model import LinearRegression\n",
    "from sklearn.linear_model import Ridge\n",
    "from sklearn.linear_model import Lasso\n",
    "\n",
    "warnings.filterwarnings(\"ignore\")"
   ]
  },
  {
   "cell_type": "code",
   "execution_count": 39,
   "metadata": {},
   "outputs": [],
   "source": [
    "seed = 257248\n",
    "stock_num = 54\n",
    "day_num_total = 1000\n",
    "day_num = 1000 - 2\n",
    "test_day_num = 700\n",
    "timeslot_num = 50"
   ]
  },
  {
   "cell_type": "code",
   "execution_count": 40,
   "metadata": {},
   "outputs": [],
   "source": [
    "def std(train, valid, test=None):\n",
    "    scaler = StandardScaler()\n",
    "    scaler.fit(train)\n",
    "    train = scaler.transform(train)\n",
    "    valid = scaler.transform(valid)\n",
    "    if test is not None:\n",
    "        test = scaler.transform(test)\n",
    "    return train, valid, test"
   ]
  },
  {
   "cell_type": "code",
   "execution_count": 41,
   "metadata": {},
   "outputs": [],
   "source": [
    "def calc_corr(df1, df2):\n",
    "    return np.corrcoef(df1, df2)[0][1]"
   ]
  },
  {
   "cell_type": "code",
   "execution_count": 42,
   "metadata": {},
   "outputs": [],
   "source": [
    "def evaluate(model, train, test, train_y, real_y):\n",
    "    model.fit(train, train_y)\n",
    "    # model_train_y = model.predict(train)\n",
    "    pred = model.predict(test)\n",
    "    # print(calc_corr(train_y, model_train_y))\n",
    "    # print(calc_corr(real_y, pred)) #[:37692]\n",
    "    return pred"
   ]
  },
  {
   "cell_type": "code",
   "execution_count": 43,
   "metadata": {},
   "outputs": [],
   "source": [
    "def evaluate2(model, train, test, train_y, real_y):\n",
    "    model.fit(train, train_y)\n",
    "    # model_train_y = model.predict(train)\n",
    "    pred = model.predict(test)\n",
    "    return pred"
   ]
  },
  {
   "cell_type": "markdown",
   "metadata": {},
   "source": [
    "## Load Data"
   ]
  },
  {
   "cell_type": "code",
   "execution_count": 44,
   "metadata": {},
   "outputs": [],
   "source": [
    "write_path = \"../data/\"\n",
    "\n",
    "train_path = write_path + \"train.csv\"\n",
    "test_path = write_path + \"test.csv\"\n",
    "# train_path = write_path + \"train_github.csv\"\n",
    "# test_path = write_path + \"test_github.csv\"\n",
    "real_return_path = write_path + \"real_return.csv\"\n",
    "# real_return_path = write_path + \"real_return_reorder.csv\"\n",
    "\n",
    "train = pd.read_csv(train_path)\n",
    "test = pd.read_csv(test_path)\n",
    "real_return = pd.read_csv(real_return_path)"
   ]
  },
  {
   "cell_type": "code",
   "execution_count": 45,
   "metadata": {},
   "outputs": [],
   "source": [
    "train_y = train[\"return\"]\n",
    "train = train.drop(columns=[\"return\", \"date_time\", \"stock_id\", \"day\"])\n",
    "\n",
    "test = test.drop(columns=[\"date_time\", \"stock_id\", \"day\"])\n",
    "\n",
    "real_y = real_return[\"return\"]"
   ]
  },
  {
   "cell_type": "code",
   "execution_count": 46,
   "metadata": {},
   "outputs": [],
   "source": [
    "abandon_all = ['transactionAmount', 'volume_min', 'money_mean', 'money_max', 'low_mean', 'close_mean', 'open_mean', 'high_mean', 'low_min', 'volume_std']\n",
    "train = train.drop(columns=abandon_all)\n",
    "test = test.drop(columns=abandon_all)"
   ]
  },
  {
   "cell_type": "code",
   "execution_count": 47,
   "metadata": {},
   "outputs": [
    {
     "name": "stdout",
     "output_type": "stream",
     "text": [
      "0.012 0.07592918039280715\n"
     ]
    }
   ],
   "source": [
    "for i in [0.012]:\n",
    "    result = None\n",
    "    for stock in range(stock_num):\n",
    "        start = stock * day_num\n",
    "        end = start + day_num\n",
    "        model = Ridge(alpha=i, normalize=True)\n",
    "        pred = evaluate2(\n",
    "            model, \n",
    "            train.iloc[stock*day_num:(stock+1)*day_num, :], \n",
    "            test.iloc[stock*test_day_num:(stock+1)*test_day_num, :], \n",
    "            train_y.iloc[stock*day_num:(stock+1)*day_num], \n",
    "            real_y.iloc[stock*test_day_num:(stock+1)*test_day_num-2]\n",
    "            # real_y.iloc[[i for i in range(stock, len(real_y), stock_num)]]\n",
    "        )\n",
    "        if result is None:\n",
    "            result = pred\n",
    "        else:\n",
    "            result = np.concatenate([result, pred], axis=0)\n",
    "    print(i, calc_corr(result, real_y))\n",
    "    last_cor = calc_corr(result, real_y)"
   ]
  },
  {
   "cell_type": "code",
   "execution_count": 48,
   "metadata": {},
   "outputs": [],
   "source": [
    "submit(result)"
   ]
  },
  {
   "cell_type": "code",
   "execution_count": 11,
   "metadata": {},
   "outputs": [
    {
     "name": "stdout",
     "output_type": "stream",
     "text": [
      "['transactionAmount']\n",
      "0.012 0.07363859064248485\n",
      "['volume_min']\n",
      "0.012 0.07436969040456373\n",
      "['money_mean']\n",
      "0.012 0.07459084899432877\n",
      "['money_max']\n",
      "0.012 0.07476067767153077\n",
      "['low_mean']\n",
      "0.012 0.0748502346459337\n",
      "['close_mean']\n",
      "0.012 0.07495439090526287\n",
      "['open_mean']\n",
      "0.012 0.07512050794449307\n",
      "['high_mean']\n",
      "0.012 0.07540376922025022\n",
      "['low_min']\n",
      "0.012 0.07590299973434213\n",
      "['volume_std']\n",
      "0.012 0.07592918039280715\n"
     ]
    }
   ],
   "source": [
    "abandon_all = []\n",
    "# last_cor = 0.05496612532000942\n",
    "last_abandon = [\"all\"]\n",
    "while last_abandon:\n",
    "    abandon = {}\n",
    "    names = train.corr()[train.columns[-1]].sort_values().index\n",
    "    for k in range(len(names)):\n",
    "        # print(k, names[k])\n",
    "        for i in [0.012]:\n",
    "            result = None\n",
    "            for stock in range(stock_num):\n",
    "                start = stock * day_num\n",
    "                end = start + day_num\n",
    "                model = Ridge(alpha=i, normalize=True)\n",
    "                pred = evaluate2(\n",
    "                    model, \n",
    "                    train.drop(columns=[names[k]]).iloc[stock*day_num:(stock+1)*day_num, :], \n",
    "                    test.drop(columns=[names[k]]).iloc[stock*test_day_num:(stock+1)*test_day_num, :], \n",
    "                    # train[list(names[:k])].iloc[stock*day_num:(stock+1)*day_num, :], \n",
    "                    # test[list(names[:k])].iloc[stock*test_day_num:(stock+1)*test_day_num, :], \n",
    "                    train_y.iloc[stock*day_num:(stock+1)*day_num], \n",
    "                    real_y.iloc[stock*test_day_num:(stock+1)*test_day_num-2]\\\n",
    "                )\n",
    "                if result is None:\n",
    "                    result = pred\n",
    "                else:\n",
    "                    result = np.concatenate([result, pred], axis=0)\n",
    "            cor = calc_corr(result, real_y)\n",
    "            # print(i, cor)\n",
    "            if cor > last_cor:\n",
    "                # abandon.append([names[k], cor])\n",
    "                abandon[names[k]] = cor\n",
    "    # abandon_cols = [col[0] for col in abandon]\n",
    "    if abandon:\n",
    "        abandon_cols = [sorted(abandon, key=lambda k: abandon[k], reverse=True)[0]]\n",
    "        print(abandon_cols)\n",
    "    else:\n",
    "        break\n",
    "    for i in [0.012]:\n",
    "        result = None\n",
    "        for stock in range(stock_num):\n",
    "            start = stock * day_num\n",
    "            end = start + day_num\n",
    "            model = Ridge(alpha=i, normalize=True)\n",
    "            pred = evaluate2(\n",
    "                model, \n",
    "                train.drop(columns=abandon_cols).iloc[stock*day_num:(stock+1)*day_num, :], \n",
    "                test.drop(columns=abandon_cols).iloc[stock*test_day_num:(stock+1)*test_day_num, :], \n",
    "                # train[list(names[:k])].iloc[stock*day_num:(stock+1)*day_num, :], \n",
    "                # test[list(names[:k])].iloc[stock*test_day_num:(stock+1)*test_day_num, :], \n",
    "                train_y.iloc[stock*day_num:(stock+1)*day_num], \n",
    "                real_y.iloc[stock*test_day_num:(stock+1)*test_day_num-2]\n",
    "                # real_y.iloc[[i for i in range(stock, len(real_y), stock_num)]]\n",
    "            )\n",
    "            if result is None:\n",
    "                result = pred\n",
    "            else:\n",
    "                result = np.concatenate([result, pred], axis=0)\n",
    "        cor = calc_corr(result, real_y)\n",
    "        print(i, cor)\n",
    "    if cor < last_cor:\n",
    "        break\n",
    "    abandon_all.append(abandon_cols[0])\n",
    "    last_cor = cor\n",
    "    last_abandon = abandon\n",
    "    train = train.drop(columns=abandon_cols)\n",
    "    test = test.drop(columns=abandon_cols)"
   ]
  },
  {
   "cell_type": "code",
   "execution_count": 12,
   "metadata": {},
   "outputs": [
    {
     "name": "stdout",
     "output_type": "stream",
     "text": [
      "0.012 0.07592918039280715\n"
     ]
    }
   ],
   "source": [
    "for i in [0.012]:\n",
    "    result = None\n",
    "    for stock in range(stock_num):\n",
    "        start = stock * day_num\n",
    "        end = start + day_num\n",
    "        model = Ridge(alpha=i, normalize=True)\n",
    "        pred = evaluate2(\n",
    "            model, \n",
    "            train.iloc[stock*day_num:(stock+1)*day_num, :], \n",
    "            test.iloc[stock*test_day_num:(stock+1)*test_day_num, :], \n",
    "            train_y.iloc[stock*day_num:(stock+1)*day_num], \n",
    "            real_y.iloc[stock*test_day_num:(stock+1)*test_day_num-2]\n",
    "            # real_y.iloc[[i for i in range(stock, len(real_y), stock_num)]]\n",
    "        )\n",
    "        if result is None:\n",
    "            result = pred\n",
    "        else:\n",
    "            result = np.concatenate([result, pred], axis=0)\n",
    "    print(i, calc_corr(result, real_y))"
   ]
  },
  {
   "cell_type": "code",
   "execution_count": 328,
   "metadata": {},
   "outputs": [],
   "source": [
    "submit(result)"
   ]
  },
  {
   "attachments": {},
   "cell_type": "markdown",
   "metadata": {},
   "source": [
    "#### temp"
   ]
  },
  {
   "cell_type": "code",
   "execution_count": null,
   "metadata": {},
   "outputs": [],
   "source": [
    "abandon_all = []\n",
    "last_cor = 0.05496612532000942\n",
    "last_abandon = [\"all\"]\n",
    "while last_abandon:\n",
    "    abandon = []\n",
    "    names = train.corr()[train.columns[-1]].sort_values().index\n",
    "    for k in range(len(names)):\n",
    "        # print(k, names[k])\n",
    "        for i in [0.012]:\n",
    "            result = None\n",
    "            for stock in range(stock_num):\n",
    "                start = stock * day_num\n",
    "                end = start + day_num\n",
    "                model = Ridge(alpha=i, normalize=True)\n",
    "                pred = evaluate2(\n",
    "                    model, \n",
    "                    train.drop(columns=[names[k]]).iloc[stock*day_num:(stock+1)*day_num, :], \n",
    "                    test.drop(columns=[names[k]]).iloc[stock*test_day_num:(stock+1)*test_day_num, :], \n",
    "                    # train[list(names[:k])].iloc[stock*day_num:(stock+1)*day_num, :], \n",
    "                    # test[list(names[:k])].iloc[stock*test_day_num:(stock+1)*test_day_num, :], \n",
    "                    train_y.iloc[stock*day_num:(stock+1)*day_num], \n",
    "                    real_y.iloc[stock*test_day_num:(stock+1)*test_day_num-2]\\\n",
    "                )\n",
    "                if result is None:\n",
    "                    result = pred\n",
    "                else:\n",
    "                    result = np.concatenate([result, pred], axis=0)\n",
    "            cor = calc_corr(result, real_y)\n",
    "            # print(i, cor)\n",
    "            if cor > last_cor:\n",
    "                abandon.append([names[k], cor])\n",
    "    abandon_cols = [col[0] for col in abandon]\n",
    "    print(abandon_cols)\n",
    "    for i in [0.012]:\n",
    "        result = None\n",
    "        for stock in range(stock_num):\n",
    "            start = stock * day_num\n",
    "            end = start + day_num\n",
    "            model = Ridge(alpha=i, normalize=True)\n",
    "            pred = evaluate2(\n",
    "                model, \n",
    "                train.drop(columns=abandon_cols).iloc[stock*day_num:(stock+1)*day_num, :], \n",
    "                test.drop(columns=abandon_cols).iloc[stock*test_day_num:(stock+1)*test_day_num, :], \n",
    "                # train[list(names[:k])].iloc[stock*day_num:(stock+1)*day_num, :], \n",
    "                # test[list(names[:k])].iloc[stock*test_day_num:(stock+1)*test_day_num, :], \n",
    "                train_y.iloc[stock*day_num:(stock+1)*day_num], \n",
    "                real_y.iloc[stock*test_day_num:(stock+1)*test_day_num-2]\n",
    "                # real_y.iloc[[i for i in range(stock, len(real_y), stock_num)]]\n",
    "            )\n",
    "            if result is None:\n",
    "                result = pred\n",
    "            else:\n",
    "                result = np.concatenate([result, pred], axis=0)\n",
    "        cor = calc_corr(result, real_y)\n",
    "        print(i, cor)\n",
    "    if cor < last_cor:\n",
    "        break\n",
    "    abandon_all.append()\n",
    "    last_cor = cor\n",
    "    last_abandon = abandon\n",
    "    train = train.drop(columns=abandon_cols)\n",
    "    test = test.drop(columns=abandon_cols)"
   ]
  },
  {
   "cell_type": "code",
   "execution_count": 273,
   "metadata": {},
   "outputs": [],
   "source": [
    "abandon_more = ['low_min', 'low_mean', 'low', 'open_mean', 'close_mean', 'close', 'open', 'high', 'high_mean', 'high_max', 'pe_ttm', 'pe_sma50', 'pe_sma25', 'Unnamed: 0', 'pe_growth', 'pcf_growth', 'pcf_2', 'pcf_sma10', 'pcf_sma25', 'pe_ttm_sma25', 'pe_ttm_sma50', 'pe_2', 'pb', 'money_min', 'volume_var', 'money_mean', 'volume_min', 'money_max', 'volume_std', 'time_step']\n",
    "train = train.drop(columns=abandon_more)\n",
    "test = test.drop(columns=abandon_more)"
   ]
  },
  {
   "cell_type": "code",
   "execution_count": 276,
   "metadata": {},
   "outputs": [],
   "source": [
    "abandon_more_2 = [\"pe_ttm_1\", \"ps_2\", \"volume_max\"]\n",
    "train = train.drop(columns=abandon_more_2)\n",
    "test = test.drop(columns=abandon_more_2)"
   ]
  },
  {
   "cell_type": "code",
   "execution_count": 231,
   "metadata": {},
   "outputs": [],
   "source": [
    "abandon_cols = ['low_mean', 'money_mean', 'volume_min', 'transactionAmount']\n",
    "train = train.drop(columns=abandon_cols)\n",
    "test = test.drop(columns=abandon_cols)"
   ]
  },
  {
   "cell_type": "code",
   "execution_count": 237,
   "metadata": {},
   "outputs": [],
   "source": [
    "abandon_cols_2 = ['low_min', 'open_mean', 'close_mean', 'high_mean', 'money_max', 'volume_std']\n",
    "train = train.drop(columns=abandon_cols_2)\n",
    "test = test.drop(columns=abandon_cols_2)"
   ]
  },
  {
   "cell_type": "code",
   "execution_count": 277,
   "metadata": {},
   "outputs": [
    {
     "name": "stdout",
     "output_type": "stream",
     "text": [
      "0 pe_ttm_2\n",
      "0.012 0.05494779479418194\n",
      "1 pe_sma10\n",
      "0.012 0.07131244009881266\n",
      "2 pe_ttm_growth\n",
      "0.012 0.07204076266571377\n",
      "3 pcf_1\n",
      "0.012 0.0726384942350757\n",
      "4 pcf\n",
      "0.012 0.07275042539996805\n",
      "5 ps_sma50\n",
      "0.012 0.07198927238154523\n",
      "6 ps_sma25\n",
      "0.012 0.07187478998402276\n",
      "7 ps_sma10\n",
      "0.012 0.07185646757741083\n",
      "8 pb_sma50\n",
      "0.012 0.07228870143132736\n",
      "9 ps_growth\n",
      "0.012 0.07328976848384391\n",
      "10 pb_sma25\n",
      "0.012 0.07180950246102642\n",
      "11 pb_sma10\n",
      "0.012 0.07192946137831374\n",
      "12 pe_ttm_sma10\n",
      "0.012 0.07153167381225888\n",
      "13 pcf_sma50\n",
      "0.012 0.07079170496226996\n",
      "14 pb_growth\n",
      "0.012 0.07293469654867875\n",
      "15 pe\n",
      "0.012 0.06963762951100745\n",
      "16 pe_1\n",
      "0.012 0.07183680252306528\n",
      "17 ps\n",
      "0.012 0.06987838854137217\n",
      "18 ps_1\n",
      "0.012 0.0630989028232632\n",
      "19 pb_1\n",
      "0.012 0.05379910785513546\n",
      "20 pb_2\n",
      "0.012 0.044231389832232314\n",
      "21 money_var\n",
      "0.012 0.06859238503925247\n",
      "22 money\n",
      "0.012 0.07245716996859612\n",
      "23 volume\n",
      "0.012 0.07163198251019445\n",
      "24 money_std\n",
      "0.012 0.06951290589059808\n",
      "25 transactionAmount\n",
      "0.012 0.07775256987576029\n",
      "26 volume_mean\n",
      "0.012 0.06686655799387645\n",
      "27 turnoverRatio\n",
      "0.012 0.07092785283917136\n",
      "28 price_diff\n",
      "0.012 0.07112058383703582\n",
      "29 price_diff_max\n",
      "0.012 0.0698940366945464\n"
     ]
    }
   ],
   "source": [
    "abandon = []\n",
    "names = train.corr()[train.columns[-1]].sort_values().index\n",
    "# for k in range(22, len(names)+1):\n",
    "for k in range(len(names)):\n",
    "    print(k, names[k])\n",
    "    # for i in [1e-1,1e-2,1e-3,1e-4,1e-5,1e-6,1e-7,1e-8,1e-9,1e-10] + [1e1,1e2,1e3,1e4,1e5,1e6,1e7,1e8,1e9,1e10]:\n",
    "    for i in [0.012]:\n",
    "        # print(i)\n",
    "        result = None\n",
    "        for stock in range(stock_num):\n",
    "            start = stock * day_num\n",
    "            end = start + day_num\n",
    "            model = Ridge(alpha=i, normalize=True)\n",
    "            pred = evaluate2(\n",
    "                model, \n",
    "                train.drop(columns=[names[k]]).iloc[stock*day_num:(stock+1)*day_num, :], \n",
    "                test.drop(columns=[names[k]]).iloc[stock*test_day_num:(stock+1)*test_day_num, :], \n",
    "                # train[list(names[:k])].iloc[stock*day_num:(stock+1)*day_num, :], \n",
    "                # test[list(names[:k])].iloc[stock*test_day_num:(stock+1)*test_day_num, :], \n",
    "                train_y.iloc[stock*day_num:(stock+1)*day_num], \n",
    "                real_y.iloc[stock*test_day_num:(stock+1)*test_day_num-2]\n",
    "                # real_y.iloc[[i for i in range(stock, len(real_y), stock_num)]]\n",
    "            )\n",
    "            if result is None:\n",
    "                result = pred\n",
    "            else:\n",
    "                result = np.concatenate([result, pred], axis=0)\n",
    "        cor = calc_corr(result, real_y)\n",
    "        print(i, cor)\n",
    "        if cor > 0.07979735900331283:\n",
    "            abandon.append([names[k], cor])"
   ]
  },
  {
   "cell_type": "code",
   "execution_count": 240,
   "metadata": {},
   "outputs": [
    {
     "data": {
      "text/plain": [
       "[]"
      ]
     },
     "execution_count": 240,
     "metadata": {},
     "output_type": "execute_result"
    }
   ],
   "source": [
    "abandon_cols = [col[0] for col in abandon]\n",
    "abandon_cols"
   ]
  },
  {
   "cell_type": "code",
   "execution_count": 241,
   "metadata": {},
   "outputs": [
    {
     "name": "stdout",
     "output_type": "stream",
     "text": [
      "0.012 0.07592918039280715\n"
     ]
    }
   ],
   "source": [
    "for i in [0.012]:\n",
    "    # print(i)\n",
    "    result = None\n",
    "    for stock in range(stock_num):\n",
    "        start = stock * day_num\n",
    "        end = start + day_num\n",
    "        model = Ridge(alpha=i, normalize=True)\n",
    "        pred = evaluate2(\n",
    "            model, \n",
    "            train.drop(columns=abandon_cols).iloc[stock*day_num:(stock+1)*day_num, :], \n",
    "            test.drop(columns=abandon_cols).iloc[stock*test_day_num:(stock+1)*test_day_num, :], \n",
    "            # train[list(names[:k])].iloc[stock*day_num:(stock+1)*day_num, :], \n",
    "            # test[list(names[:k])].iloc[stock*test_day_num:(stock+1)*test_day_num, :], \n",
    "            train_y.iloc[stock*day_num:(stock+1)*day_num], \n",
    "            real_y.iloc[stock*test_day_num:(stock+1)*test_day_num-2]\n",
    "            # real_y.iloc[[i for i in range(stock, len(real_y), stock_num)]]\n",
    "        )\n",
    "        if result is None:\n",
    "            result = pred\n",
    "        else:\n",
    "            result = np.concatenate([result, pred], axis=0)\n",
    "    cor = calc_corr(result, real_y)\n",
    "    print(i, cor)"
   ]
  },
  {
   "attachments": {},
   "cell_type": "markdown",
   "metadata": {},
   "source": [
    "## Normalization"
   ]
  },
  {
   "cell_type": "code",
   "execution_count": 145,
   "metadata": {},
   "outputs": [],
   "source": [
    "# train, valid, test = std(train.iloc[:, 3:-1], valid.iloc[:, 3:-1], test.iloc[:, 3:])"
   ]
  },
  {
   "attachments": {},
   "cell_type": "markdown",
   "metadata": {},
   "source": [
    "## Model"
   ]
  },
  {
   "attachments": {},
   "cell_type": "markdown",
   "metadata": {},
   "source": [
    "### Linear Regression"
   ]
  },
  {
   "cell_type": "code",
   "execution_count": 124,
   "metadata": {},
   "outputs": [
    {
     "name": "stdout",
     "output_type": "stream",
     "text": [
      "0.08185975427789274\n",
      "0.04034488821467451\n"
     ]
    }
   ],
   "source": [
    "model = LinearRegression()\n",
    "pred = evaluate(model, train, test, train_y, real_y)"
   ]
  },
  {
   "attachments": {},
   "cell_type": "markdown",
   "metadata": {},
   "source": [
    "### Ridge Regression"
   ]
  },
  {
   "cell_type": "code",
   "execution_count": 131,
   "metadata": {},
   "outputs": [
    {
     "name": "stdout",
     "output_type": "stream",
     "text": [
      "0.07108389523027633\n",
      "0.0597535859373132\n"
     ]
    }
   ],
   "source": [
    "model = Ridge(alpha=1e8)\n",
    "pred = evaluate(model, train, test, train_y, real_y)"
   ]
  },
  {
   "attachments": {},
   "cell_type": "markdown",
   "metadata": {},
   "source": [
    "### Lasso Regression"
   ]
  },
  {
   "cell_type": "code",
   "execution_count": 130,
   "metadata": {},
   "outputs": [
    {
     "name": "stdout",
     "output_type": "stream",
     "text": [
      "0.07082556523046826\n",
      "0.059702617533116835\n"
     ]
    }
   ],
   "source": [
    "model = Lasso(alpha=1)\n",
    "pred = evaluate(model, train, test, train_y, real_y)"
   ]
  },
  {
   "cell_type": "code",
   "execution_count": 129,
   "metadata": {},
   "outputs": [
    {
     "name": "stdout",
     "output_type": "stream",
     "text": [
      "0.012 0.07225595088513154\n"
     ]
    }
   ],
   "source": [
    "# [1e-1,1e-2,1e-3,1e-4,1e-5,1e-6,1e-7,1e-8,1e-9,1e-10]\n",
    "# [1e1,1e2,1e3,1e4,1e5,1e6,1e7,1e8,1e9,1e10]\n",
    "for i in [0.012]:\n",
    "    result = None\n",
    "    for stock in range(stock_num):\n",
    "        start = stock * day_num\n",
    "        end = start + day_num\n",
    "        model = Ridge(alpha=i, normalize=True)\n",
    "        pred = evaluate2(\n",
    "            model, \n",
    "            train.iloc[stock*day_num:(stock+1)*day_num, :], \n",
    "            test.iloc[stock*test_day_num:(stock+1)*test_day_num, :], \n",
    "            train_y.iloc[stock*day_num:(stock+1)*day_num], \n",
    "            real_y.iloc[stock*test_day_num:(stock+1)*test_day_num-2]\n",
    "            # real_y.iloc[[i for i in range(stock, len(real_y), stock_num)]]\n",
    "        )\n",
    "        if result is None:\n",
    "            result = pred\n",
    "        else:\n",
    "            result = np.concatenate([result, pred], axis=0)\n",
    "    print(i, calc_corr(result, real_y))"
   ]
  },
  {
   "attachments": {},
   "cell_type": "markdown",
   "metadata": {},
   "source": [
    "### Random Forest"
   ]
  },
  {
   "cell_type": "code",
   "execution_count": 32,
   "metadata": {},
   "outputs": [
    {
     "name": "stdout",
     "output_type": "stream",
     "text": [
      "0.09721523729185862\n",
      "0.002919757303658706\n"
     ]
    }
   ],
   "source": [
    "from sklearn.ensemble import RandomForestRegressor\n",
    "\n",
    "model = RandomForestRegressor(n_estimators=1000, max_depth=3, min_samples_split=50, random_state=seed)\n",
    "pred = evaluate(model, train, test, train_y, real_y)"
   ]
  },
  {
   "cell_type": "markdown",
   "metadata": {},
   "source": [
    "## Submission"
   ]
  },
  {
   "cell_type": "code",
   "execution_count": 88,
   "metadata": {},
   "outputs": [],
   "source": [
    "submit(pred)"
   ]
  }
 ],
 "metadata": {
  "kernelspec": {
   "display_name": "Python 3.9.12 ('base')",
   "language": "python",
   "name": "python3"
  },
  "language_info": {
   "codemirror_mode": {
    "name": "ipython",
    "version": 3
   },
   "file_extension": ".py",
   "mimetype": "text/x-python",
   "name": "python",
   "nbconvert_exporter": "python",
   "pygments_lexer": "ipython3",
   "version": "3.9.12"
  },
  "orig_nbformat": 4,
  "vscode": {
   "interpreter": {
    "hash": "800b2c1448e2ea079d66e8039536a26ab9dab7a446f882031feb022006dbbbf7"
   }
  }
 },
 "nbformat": 4,
 "nbformat_minor": 2
}
