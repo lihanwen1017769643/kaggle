{
 "cells": [
  {
   "cell_type": "code",
   "execution_count": 4,
   "metadata": {},
   "outputs": [],
   "source": [
    "import pandas as pd\n",
    "import numpy as np\n",
    "import os\n",
    "import datetime\n",
    "import warnings\n",
    "\n",
    "warnings.filterwarnings(\"ignore\")"
   ]
  },
  {
   "cell_type": "code",
   "execution_count": 2,
   "metadata": {},
   "outputs": [],
   "source": [
    "DATA_PATH = \"../data/\""
   ]
  },
  {
   "cell_type": "code",
   "execution_count": 5,
   "metadata": {},
   "outputs": [],
   "source": [
    "# submission from\n",
    "submission = pd.read_csv(f'{DATA_PATH}godaddy-submissions/submission_1.3730.csv')\n",
    "submission['cfips'] = submission['row_id'].map(lambda x: int(x.split('_')[0]))\n",
    "\n",
    "# get adult_population\n",
    "column_names = ['GEO_ID','NAME','S0101_C01_026E']\n",
    "df2021 = pd.read_csv(f'{DATA_PATH}census-data-for-godaddy/ACSST5Y2021.S0101-Data.csv', usecols=column_names)\n",
    "df2021 = df2021.iloc[1:]\n",
    "df2021['S0101_C01_026E'] = df2021['S0101_C01_026E'].astype('int')\n",
    "df2021['cfips'] = df2021.GEO_ID.apply(lambda x: int(x.split('US')[-1]))\n",
    "adult2021 = df2021.set_index('cfips').S0101_C01_026E.to_dict()\n",
    "\n",
    "submission['adult2021'] = submission['cfips'].map(adult2021)\n",
    "\n",
    "# rounding to the nearest integer\n",
    "submission['microbusiness_density'] = (\n",
    "    np.round(submission['microbusiness_density'] * submission['adult2021'] / 100) / submission['adult2021'] * 100\n",
    ")\n",
    "\n",
    "# submit\n",
    "currentDate = \"\".join(str(datetime.datetime.now())[:10].split(\"-\"))\n",
    "nextVersion = 1\n",
    "try:\n",
    "    file_list = os.listdir(f'submission/')\n",
    "    if file_list:\n",
    "        maxVersion = 0\n",
    "        for _file in file_list:\n",
    "            if f'submission_{currentDate}_' in _file:\n",
    "                maxVersion = max(maxVersion, int(_file.split(\"_\")[-1][:-4]))\n",
    "        nextVersion = maxVersion + 1\n",
    "    submission[['row_id', 'microbusiness_density']].to_csv(f'submission/submission_{currentDate}_{nextVersion}.csv', index=False)\n",
    "except:\n",
    "    pass"
   ]
  },
  {
   "cell_type": "code",
   "execution_count": null,
   "metadata": {},
   "outputs": [],
   "source": []
  }
 ],
 "metadata": {
  "kernelspec": {
   "display_name": "base",
   "language": "python",
   "name": "python3"
  },
  "language_info": {
   "codemirror_mode": {
    "name": "ipython",
    "version": 3
   },
   "file_extension": ".py",
   "mimetype": "text/x-python",
   "name": "python",
   "nbconvert_exporter": "python",
   "pygments_lexer": "ipython3",
   "version": "3.9.12"
  },
  "orig_nbformat": 4
 },
 "nbformat": 4,
 "nbformat_minor": 2
}
